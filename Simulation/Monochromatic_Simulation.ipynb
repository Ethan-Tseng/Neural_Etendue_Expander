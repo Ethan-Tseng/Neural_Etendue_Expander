{
 "cells": [
  {
   "cell_type": "markdown",
   "id": "1944d3c6",
   "metadata": {},
   "source": [
    "# Monochromatic Neural Étendue Expansion Simulation Code"
   ]
  },
  {
   "cell_type": "markdown",
   "id": "ff6123ba",
   "metadata": {},
   "source": [
    "### This notebook can be used to produce the monochromatic étendue expanded simulation holograms shown in the manuscript and in the supplementary information.\n",
    "\n",
    "### In the cells below please select one expander type and one target image. For example, to produce a 36x étendue expanded hologram with the neural étendue expander please select 'neural_mono_36x'. To produce a 4x étendue expanded hologram with a random expander [Kuo et al. 2020] please select 'random_4x'. The target images provided are labeled as '000.png', '001.png', and so on."
   ]
  },
  {
   "cell_type": "code",
   "execution_count": null,
   "id": "d33dec55",
   "metadata": {},
   "outputs": [],
   "source": [
    "import torch\n",
    "import torch.nn.functional as F\n",
    "from torch.autograd import Variable\n",
    "import matplotlib.pyplot as plt\n",
    "import numpy as np\n",
    "import os\n",
    "import time\n",
    "import random\n",
    "\n",
    "from Expander import get_expander_phase\n",
    "from SLM import get_slm_phase\n",
    "from Render import get_intensity\n",
    "from RI_wvl import RI_660, RI_517, RI_450, wvl_660, wvl_517, wvl_450\n",
    "from Freq import butterworth, freq_filt\n",
    "from Img import get_img"
   ]
  },
  {
   "cell_type": "code",
   "execution_count": null,
   "id": "921dea13",
   "metadata": {},
   "outputs": [],
   "source": [
    "### --- BEGIN CONFIG --- ###\n",
    "# Choose only one of the following expanders.\n",
    "#expander_type = 'random_4x'\n",
    "#expander_type = 'random_16x'\n",
    "#expander_type = 'random_36x'\n",
    "#expander_type = 'random_64x'\n",
    "#expander_type = 'neural_mono_4x'\n",
    "#expander_type = 'neural_mono_16x'\n",
    "#expander_type = 'neural_mono_36x'\n",
    "expander_type = 'neural_mono_64x'\n",
    "\n",
    "# Choose only one of the following target images.\n",
    "#target_img_name = '000'\n",
    "#target_img_name = '001'\n",
    "target_img_name = '002'\n",
    "### ---   END CONFIG --- ###\n",
    "\n",
    "if '_4x' in expander_type:\n",
    "    upsample_factor = 2\n",
    "elif '_16x' in expander_type:\n",
    "    upsample_factor = 4\n",
    "elif '_36x' in expander_type:\n",
    "    upsample_factor = 6\n",
    "elif '_64x' in expander_type:\n",
    "    upsample_factor = 8\n",
    "else:\n",
    "    assert('Undefined expander.')"
   ]
  },
  {
   "cell_type": "code",
   "execution_count": null,
   "id": "eb0ccdfb",
   "metadata": {},
   "outputs": [],
   "source": [
    "### --- BEGIN CONSTANTS --- ###\n",
    "R = 512; C = 512\n",
    "batch_size = 3\n",
    "up_R = upsample_factor * R\n",
    "up_C = upsample_factor * C\n",
    "iterations = 1000; lr=0.1\n",
    "### ---   END CONSTANTS --- ###"
   ]
  },
  {
   "cell_type": "code",
   "execution_count": null,
   "id": "5edd807d",
   "metadata": {},
   "outputs": [],
   "source": [
    "### Set Random Seed for reproducibility\n",
    "def set_seed(seed: int = 42) -> None:\n",
    "    np.random.seed(seed)\n",
    "    random.seed(seed)\n",
    "    torch.manual_seed(seed)\n",
    "    torch.cuda.manual_seed(seed)\n",
    "    # When running on the CuDNN backend, two further options must be set\n",
    "    torch.backends.cudnn.deterministic = True\n",
    "    torch.backends.cudnn.benchmark = False\n",
    "    # Set a fixed value for the hash seed\n",
    "    os.environ[\"PYTHONHASHSEED\"] = str(seed)\n",
    "    print(f\"Random seed set as {seed}\")\n",
    "set_seed(1996)"
   ]
  },
  {
   "cell_type": "code",
   "execution_count": null,
   "id": "651c981d",
   "metadata": {},
   "outputs": [],
   "source": [
    "### Define frequency filter ###\n",
    "H = butterworth(R*upsample_factor,C*upsample_factor,upsample_factor)\n",
    "H_torch = torch.from_numpy(H.astype(np.float32)); H_torch = H_torch.to('cuda:0')"
   ]
  },
  {
   "cell_type": "markdown",
   "id": "22cf8963",
   "metadata": {},
   "source": [
    "### Optimize for Red Wavelength (660 nm)"
   ]
  },
  {
   "cell_type": "code",
   "execution_count": null,
   "id": "138d7fad",
   "metadata": {},
   "outputs": [],
   "source": [
    "### Define target image (monochromatic at 660 nm) ###\n",
    "img_name = os.path.join('Target_Images', target_img_name+'.png')\n",
    "img, wvlpad_R, wvlpad_C = get_img(img_name, up_R, up_C, 'w')\n",
    "target = torch.from_numpy(img.astype(np.float32)); target = target.to('cuda:0')\n",
    "freq_target = freq_filt(target, H_torch)"
   ]
  },
  {
   "cell_type": "code",
   "execution_count": null,
   "id": "a7566b1a",
   "metadata": {},
   "outputs": [],
   "source": [
    "### Define expander (monochromatic at 660 nm) ###\n",
    "expander_phase = get_expander_phase(expander_type, wvl_660, RI_660)\n",
    "expander_phase = expander_phase.to('cuda:0')\n",
    "expander_amp = torch.ones(R * upsample_factor, C * upsample_factor)\n",
    "expander_amp = expander_amp.to('cuda:0')"
   ]
  },
  {
   "cell_type": "code",
   "execution_count": null,
   "id": "fae40e1f",
   "metadata": {},
   "outputs": [],
   "source": [
    "### Optimize for SLM ###\n",
    "slm_amp = torch.ones(R, C); slm_amp = slm_amp.to('cuda:0')\n",
    "slm_phase = get_slm_phase(freq_target, expander_amp, expander_phase, slm_amp, H_torch, \\\n",
    "                          batch_size, iterations, lr, R, C, upsample_factor, wvlpad_R, wvlpad_C)"
   ]
  },
  {
   "cell_type": "code",
   "execution_count": null,
   "id": "7730e622",
   "metadata": {},
   "outputs": [],
   "source": [
    "### Render etendue expanded hologram with optimized SLM pattern ###\n",
    "slm_phase_upsample = F.interpolate(slm_phase, scale_factor=(upsample_factor,upsample_factor))\n",
    "slm_amp_upsample = torch.ones_like(slm_phase_upsample)\n",
    "loss, output = get_intensity(freq_target, expander_amp, expander_phase, slm_amp_upsample, slm_phase_upsample, H_torch, \\\n",
    "                             batch_size, R, C, upsample_factor, wvlpad_R, wvlpad_C)\n",
    "print('Loss value is {}'.format(loss))"
   ]
  },
  {
   "cell_type": "markdown",
   "id": "53bb2f57",
   "metadata": {},
   "source": [
    "### Display Étendue Expanded Hologram and Target Image"
   ]
  },
  {
   "cell_type": "code",
   "execution_count": null,
   "id": "7047eb94",
   "metadata": {},
   "outputs": [],
   "source": [
    "output_mono = torch.concat([output, output, output], axis=1)\n",
    "output_mono = output_mono.permute((0,2,3,1))\n",
    "output_mono = np.clip(output_mono[0,...].detach().cpu().numpy(), 0.0, 1.0)\n",
    "\n",
    "plt.figure()\n",
    "plt.title('Étendue Expanded Hologram')\n",
    "plt.imshow(output_mono)\n",
    "\n",
    "freq_target_mono = torch.stack([freq_target, freq_target, freq_target], axis=-1)\n",
    "freq_target_mono = freq_target_mono.permute((0,1,2))\n",
    "freq_target_mono = np.clip(freq_target_mono.detach().cpu().numpy(), 0.0, 1.0)\n",
    "\n",
    "plt.figure()\n",
    "plt.title('Target Image')\n",
    "plt.imshow(freq_target_mono)"
   ]
  },
  {
   "cell_type": "code",
   "execution_count": null,
   "id": "75d728fb",
   "metadata": {},
   "outputs": [],
   "source": []
  }
 ],
 "metadata": {
  "kernelspec": {
   "display_name": "Python 3 (ipykernel)",
   "language": "python",
   "name": "python3"
  },
  "language_info": {
   "codemirror_mode": {
    "name": "ipython",
    "version": 3
   },
   "file_extension": ".py",
   "mimetype": "text/x-python",
   "name": "python",
   "nbconvert_exporter": "python",
   "pygments_lexer": "ipython3",
   "version": "3.10.10"
  }
 },
 "nbformat": 4,
 "nbformat_minor": 5
}
