{
 "cells": [
  {
   "cell_type": "markdown",
   "id": "3d4339c7",
   "metadata": {},
   "source": [
    "# Trichromatic Neural Étendue Expansion Simulation Code"
   ]
  },
  {
   "cell_type": "markdown",
   "id": "5b6d48b5",
   "metadata": {},
   "source": [
    "### This notebook can be used to produce the trichromatic étendue expanded simulation holograms shown in the manuscript and in the supplementary information.\n",
    "\n",
    "### In the cells below please select one expander type and one target image. For example, to produce a 36x étendue expanded hologram with the neural étendue expander please select 'neural_tri_36x'. To produce a 4x étendue expanded hologram with a random expander [Kuo et al. 2020] please select 'random_4x'. The target images provided are labeled as '000.png', '001.png', and so on."
   ]
  },
  {
   "cell_type": "code",
   "execution_count": null,
   "id": "d33dec55",
   "metadata": {},
   "outputs": [],
   "source": [
    "import torch\n",
    "import torch.nn.functional as F\n",
    "from torch.autograd import Variable\n",
    "import matplotlib.pyplot as plt\n",
    "import numpy as np\n",
    "import os\n",
    "import time\n",
    "import random\n",
    "\n",
    "from Expander import get_expander_phase\n",
    "from SLM import get_slm_phase\n",
    "from Render import get_intensity\n",
    "from RI_wvl import RI_660, RI_517, RI_450, wvl_660, wvl_517, wvl_450\n",
    "from Freq import butterworth, freq_filt\n",
    "from Img import get_img"
   ]
  },
  {
   "cell_type": "code",
   "execution_count": null,
   "id": "921dea13",
   "metadata": {},
   "outputs": [],
   "source": [
    "### --- BEGIN CONFIG --- ###\n",
    "# Choose only one of the following expanders.\n",
    "#expander_type = 'random_4x'\n",
    "#expander_type = 'random_16x'\n",
    "#expander_type = 'random_36x'\n",
    "#expander_type = 'random_64x'\n",
    "#expander_type = 'neural_tri_4x'\n",
    "#expander_type = 'neural_tri_16x'\n",
    "#expander_type = 'neural_tri_36x'\n",
    "expander_type = 'neural_tri_64x'\n",
    "\n",
    "# Choose only one of the following target images.\n",
    "#target_img_name = '000'\n",
    "#target_img_name = '001'\n",
    "target_img_name = '002'\n",
    "### ---   END CONFIG --- ###\n",
    "\n",
    "if '_4x' in expander_type:\n",
    "    upsample_factor = 2\n",
    "elif '_16x' in expander_type:\n",
    "    upsample_factor = 4\n",
    "elif '_36x' in expander_type:\n",
    "    upsample_factor = 6\n",
    "elif '_64x' in expander_type:\n",
    "    upsample_factor = 8\n",
    "else:\n",
    "    assert('Undefined expander.')"
   ]
  },
  {
   "cell_type": "code",
   "execution_count": null,
   "id": "eb0ccdfb",
   "metadata": {},
   "outputs": [],
   "source": [
    "### --- BEGIN CONSTANTS --- ###\n",
    "R = 512; C = 512\n",
    "batch_size = 3\n",
    "up_R = upsample_factor * R\n",
    "up_C = upsample_factor * C\n",
    "iterations = 1000; lr=0.1\n",
    "### ---   END CONSTANTS --- ###"
   ]
  },
  {
   "cell_type": "code",
   "execution_count": null,
   "id": "5edd807d",
   "metadata": {},
   "outputs": [],
   "source": [
    "### Set Random Seed for reproducibility\n",
    "def set_seed(seed: int = 42) -> None:\n",
    "    np.random.seed(seed)\n",
    "    random.seed(seed)\n",
    "    torch.manual_seed(seed)\n",
    "    torch.cuda.manual_seed(seed)\n",
    "    # When running on the CuDNN backend, two further options must be set\n",
    "    torch.backends.cudnn.deterministic = True\n",
    "    torch.backends.cudnn.benchmark = False\n",
    "    # Set a fixed value for the hash seed\n",
    "    os.environ[\"PYTHONHASHSEED\"] = str(seed)\n",
    "    print(f\"Random seed set as {seed}\")\n",
    "set_seed(1996)"
   ]
  },
  {
   "cell_type": "code",
   "execution_count": null,
   "id": "651c981d",
   "metadata": {},
   "outputs": [],
   "source": [
    "### Define frequency filter ###\n",
    "H = butterworth(R*upsample_factor,C*upsample_factor,upsample_factor)\n",
    "H_torch = torch.from_numpy(H.astype(np.float32)); H_torch = H_torch.to('cuda:0')"
   ]
  },
  {
   "cell_type": "markdown",
   "id": "ce85becf",
   "metadata": {},
   "source": [
    "### Optimize for Red Wavelength (660 nm)"
   ]
  },
  {
   "cell_type": "code",
   "execution_count": null,
   "id": "138d7fad",
   "metadata": {},
   "outputs": [],
   "source": [
    "### Define target image (monochromatic at 660 nm) ###\n",
    "img_name = os.path.join('Target_Images', target_img_name+'.png')\n",
    "img, wvlpad_R, wvlpad_C = get_img(img_name, up_R, up_C, 'r')\n",
    "target = torch.from_numpy(img.astype(np.float32)); target = target.to('cuda:0')\n",
    "freq_target = freq_filt(target, H_torch)"
   ]
  },
  {
   "cell_type": "code",
   "execution_count": null,
   "id": "a7566b1a",
   "metadata": {},
   "outputs": [],
   "source": [
    "### Define expander (monochromatic at 660 nm) ###\n",
    "expander_phase = get_expander_phase(expander_type, wvl_660, RI_660)\n",
    "expander_phase = expander_phase.to('cuda:0')\n",
    "expander_amp = torch.ones(R * upsample_factor, C * upsample_factor)\n",
    "expander_amp = expander_amp.to('cuda:0')"
   ]
  },
  {
   "cell_type": "code",
   "execution_count": null,
   "id": "fae40e1f",
   "metadata": {},
   "outputs": [],
   "source": [
    "### Optimize for SLM ###\n",
    "slm_amp = torch.ones(R, C); slm_amp = slm_amp.to('cuda:0')\n",
    "slm_phase = get_slm_phase(freq_target, expander_amp, expander_phase, slm_amp, H_torch, \\\n",
    "                          batch_size, iterations, lr, R, C, upsample_factor, wvlpad_R, wvlpad_C)"
   ]
  },
  {
   "cell_type": "code",
   "execution_count": null,
   "id": "76236478",
   "metadata": {},
   "outputs": [],
   "source": [
    "### Render etendue expanded hologram with optimized SLM pattern ###\n",
    "slm_phase_upsample = F.interpolate(slm_phase, scale_factor=(upsample_factor,upsample_factor))\n",
    "slm_amp_upsample = torch.ones_like(slm_phase_upsample)\n",
    "loss, output = get_intensity(freq_target, expander_amp, expander_phase, slm_amp_upsample, slm_phase_upsample, H_torch, \\\n",
    "                             batch_size, R, C, upsample_factor, wvlpad_R, wvlpad_C)\n",
    "print('Loss value is {}'.format(loss))"
   ]
  },
  {
   "cell_type": "code",
   "execution_count": null,
   "id": "84254299",
   "metadata": {},
   "outputs": [],
   "source": [
    "freq_target_r = F.interpolate(freq_target[None, None, wvlpad_R:-wvlpad_R, wvlpad_C:-wvlpad_C], size=(R * upsample_factor, C * upsample_factor), mode='nearest')\n",
    "expander_phase_r = expander_phase; expander_amp_r = expander_amp\n",
    "slm_phase_r = slm_phase; slm_amp_r = slm_amp\n",
    "output_r = output"
   ]
  },
  {
   "cell_type": "markdown",
   "id": "bbd1110c",
   "metadata": {},
   "source": [
    "### Optimize for Green Wavelength (517 nm)"
   ]
  },
  {
   "cell_type": "code",
   "execution_count": null,
   "id": "835f276a",
   "metadata": {},
   "outputs": [],
   "source": [
    "### Define target image (monochromatic at 517 nm) ###\n",
    "img_name = os.path.join('Target_Images', target_img_name+'.png')\n",
    "img, wvlpad_R, wvlpad_C = get_img(img_name, up_R, up_C, 'g')\n",
    "target = torch.from_numpy(img.astype(np.float32)); target = target.to('cuda:0')\n",
    "freq_target = freq_filt(target, H_torch)"
   ]
  },
  {
   "cell_type": "code",
   "execution_count": null,
   "id": "d690d6a1",
   "metadata": {},
   "outputs": [],
   "source": [
    "### Define expander (monochromatic at 517 nm) ###\n",
    "expander_phase = get_expander_phase(expander_type, wvl_517, RI_517)\n",
    "expander_phase = expander_phase.to('cuda:0')\n",
    "expander_amp = torch.ones(R * upsample_factor, C * upsample_factor)\n",
    "expander_amp = expander_amp.to('cuda:0')"
   ]
  },
  {
   "cell_type": "code",
   "execution_count": null,
   "id": "8dc24123",
   "metadata": {},
   "outputs": [],
   "source": [
    "### Optimize for SLM ###\n",
    "slm_amp = torch.ones(R, C); slm_amp = slm_amp.to('cuda:0')\n",
    "slm_phase = get_slm_phase(freq_target, expander_amp, expander_phase, slm_amp, H_torch, \\\n",
    "                          batch_size, iterations, lr, R, C, upsample_factor, wvlpad_R, wvlpad_C)"
   ]
  },
  {
   "cell_type": "code",
   "execution_count": null,
   "id": "6d2ff960",
   "metadata": {},
   "outputs": [],
   "source": [
    "### Render etendue expanded hologram with optimized SLM pattern ###\n",
    "slm_phase_upsample = F.interpolate(slm_phase, scale_factor=(upsample_factor,upsample_factor))\n",
    "slm_amp_upsample = torch.ones_like(slm_phase_upsample)\n",
    "loss, output = get_intensity(freq_target, expander_amp, expander_phase, slm_amp_upsample, slm_phase_upsample, H_torch, \\\n",
    "                             batch_size, R, C, upsample_factor, wvlpad_R, wvlpad_C)\n",
    "print('Loss value is {}'.format(loss))"
   ]
  },
  {
   "cell_type": "code",
   "execution_count": null,
   "id": "8c8b7d14",
   "metadata": {},
   "outputs": [],
   "source": [
    "freq_target_g = F.interpolate(freq_target[None, None, wvlpad_R:-wvlpad_R, wvlpad_C:-wvlpad_C], size=(R * upsample_factor, C * upsample_factor), mode='nearest')\n",
    "expander_phase_g = expander_phase; expander_amp_g = expander_amp\n",
    "slm_phase_g = slm_phase; slm_amp_g = slm_amp\n",
    "output_g = output"
   ]
  },
  {
   "cell_type": "markdown",
   "id": "e73b8801",
   "metadata": {},
   "source": [
    "### Optimize for Blue Wavelength (450 nm)"
   ]
  },
  {
   "cell_type": "code",
   "execution_count": null,
   "id": "911eb705",
   "metadata": {},
   "outputs": [],
   "source": [
    "### Define target image (monochromatic at 450 nm) ###\n",
    "img_name = os.path.join('Target_Images', target_img_name+'.png')\n",
    "img, wvlpad_R, wvlpad_C = get_img(img_name, up_R, up_C, 'b')\n",
    "target = torch.from_numpy(img.astype(np.float32)); target = target.to('cuda:0')\n",
    "freq_target = freq_filt(target, H_torch)"
   ]
  },
  {
   "cell_type": "code",
   "execution_count": null,
   "id": "8900a8e3",
   "metadata": {},
   "outputs": [],
   "source": [
    "### Define expander (monochromatic at 450 nm) ###\n",
    "expander_phase = get_expander_phase(expander_type, wvl_450, RI_450)\n",
    "expander_phase = expander_phase.to('cuda:0')\n",
    "expander_amp = torch.ones(R * upsample_factor, C * upsample_factor)\n",
    "expander_amp = expander_amp.to('cuda:0')"
   ]
  },
  {
   "cell_type": "code",
   "execution_count": null,
   "id": "9562435f",
   "metadata": {},
   "outputs": [],
   "source": [
    "### Optimize for SLM ###\n",
    "slm_amp = torch.ones(R, C); slm_amp = slm_amp.to('cuda:0')\n",
    "slm_phase = get_slm_phase(freq_target, expander_amp, expander_phase, slm_amp, H_torch, \\\n",
    "                          batch_size, iterations, lr, R, C, upsample_factor, wvlpad_R, wvlpad_C)"
   ]
  },
  {
   "cell_type": "code",
   "execution_count": null,
   "id": "8e140497",
   "metadata": {},
   "outputs": [],
   "source": [
    "### Render etendue expanded hologram with optimized SLM pattern ###\n",
    "slm_phase_upsample = F.interpolate(slm_phase, scale_factor=(upsample_factor,upsample_factor))\n",
    "slm_amp_upsample = torch.ones_like(slm_phase_upsample)\n",
    "loss, output = get_intensity(freq_target, expander_amp, expander_phase, slm_amp_upsample, slm_phase_upsample, H_torch, \\\n",
    "                             batch_size, R, C, upsample_factor, wvlpad_R, wvlpad_C)\n",
    "print('Loss value is {}'.format(loss))"
   ]
  },
  {
   "cell_type": "code",
   "execution_count": null,
   "id": "96cb97c5",
   "metadata": {},
   "outputs": [],
   "source": [
    "freq_target_b = F.interpolate(freq_target[None, None, :, :], size=(R * upsample_factor, C * upsample_factor), mode='nearest')\n",
    "expander_phase_b = expander_phase; expander_amp_b = expander_amp\n",
    "slm_phase_b = slm_phase; slm_amp_b = slm_amp\n",
    "output_b = output"
   ]
  },
  {
   "cell_type": "markdown",
   "id": "876145b7",
   "metadata": {},
   "source": [
    "### Display Étendue Expanded Hologram and Target Image ###"
   ]
  },
  {
   "cell_type": "code",
   "execution_count": null,
   "id": "f0a7ce64",
   "metadata": {},
   "outputs": [],
   "source": [
    "output_tri = torch.concat([output_r, output_g, output_b], axis=1)\n",
    "output_tri = output_tri.permute((0,2,3,1))\n",
    "output_tri = np.clip(output_tri[0,...].detach().cpu().numpy(), 0.0, 1.0)\n",
    "\n",
    "plt.figure()\n",
    "plt.title('Étendue Expanded Hologram')\n",
    "plt.imshow(output_tri)\n",
    "\n",
    "freq_target_tri = torch.concat([freq_target_r, freq_target_g, freq_target_b], axis=1)\n",
    "freq_target_tri = freq_target_tri.permute((0,2,3,1))\n",
    "freq_target_tri = np.clip(freq_target_tri[0,...].detach().cpu().numpy(), 0.0, 1.0)\n",
    "\n",
    "plt.figure()\n",
    "plt.title('Target Image')\n",
    "plt.imshow(freq_target_tri)"
   ]
  },
  {
   "cell_type": "code",
   "execution_count": null,
   "id": "75d728fb",
   "metadata": {},
   "outputs": [],
   "source": []
  }
 ],
 "metadata": {
  "kernelspec": {
   "display_name": "Python 3 (ipykernel)",
   "language": "python",
   "name": "python3"
  },
  "language_info": {
   "codemirror_mode": {
    "name": "ipython",
    "version": 3
   },
   "file_extension": ".py",
   "mimetype": "text/x-python",
   "name": "python",
   "nbconvert_exporter": "python",
   "pygments_lexer": "ipython3",
   "version": "3.10.10"
  }
 },
 "nbformat": 4,
 "nbformat_minor": 5
}
