{
 "cells": [
  {
   "cell_type": "markdown",
   "id": "66a9fd44",
   "metadata": {},
   "source": [
    "# Virtual Frequency Visualization Code"
   ]
  },
  {
   "cell_type": "markdown",
   "id": "5aba217f",
   "metadata": {},
   "source": [
    "### This notebook can be used to produce the virtual frequency visualizations shown in the manuscript and in the supplementary information."
   ]
  },
  {
   "cell_type": "code",
   "execution_count": null,
   "id": "1954f9a1",
   "metadata": {},
   "outputs": [],
   "source": [
    "import torch\n",
    "import matplotlib.pyplot as plt\n",
    "import numpy as np\n",
    "\n",
    "from Freq import butterworth"
   ]
  },
  {
   "cell_type": "code",
   "execution_count": null,
   "id": "eb9d5465",
   "metadata": {},
   "outputs": [],
   "source": [
    "def compute_virtual_eoe(eoe):\n",
    "    if torch.is_tensor(eoe):\n",
    "        return torch.fft.ifftshift(torch.fft.fft2(torch.abs(torch.fft.fftshift(torch.fft.fft2(eoe)))**2))/(eoe.shape[0]*eoe.shape[1])\n",
    "    else:        \n",
    "        eoe_far_field = np.abs(np.fft.fftshift(np.fft.fft2(eoe)))**2.0\n",
    "        return np.fft.ifftshift(np.fft.fft2(eoe_far_field))"
   ]
  },
  {
   "cell_type": "code",
   "execution_count": null,
   "id": "285bd8fb",
   "metadata": {},
   "outputs": [],
   "source": [
    "cmap_setting = 'pink'\n",
    "vmax_setting = 28000"
   ]
  },
  {
   "cell_type": "markdown",
   "id": "ca8f3cdb",
   "metadata": {},
   "source": [
    "# Define the Frequency Filters"
   ]
  },
  {
   "cell_type": "code",
   "execution_count": null,
   "id": "159cfd90",
   "metadata": {},
   "outputs": [],
   "source": [
    "etendue_expansion_factor = 4; butter_fac = 1; butter_order = 5; R = 1024; C = 1024\n",
    "butter_4 = butterworth(C, R, int(np.sqrt(etendue_expansion_factor)//butter_fac), order=butter_order)\n",
    "\n",
    "etendue_expansion_factor = 16; butter_fac = 1; butter_order = 5; R = 2048; C = 2048\n",
    "butter_16 = butterworth(C, R, int(np.sqrt(etendue_expansion_factor)//butter_fac), order=butter_order)\n",
    "\n",
    "etendue_expansion_factor = 36; butter_fac = 1; butter_order = 5; R = 3072; C = 3072\n",
    "butter_36 = butterworth(C, R, int(np.sqrt(etendue_expansion_factor)//butter_fac), order=butter_order)\n",
    "\n",
    "etendue_expansion_factor = 64; butter_fac = 1; butter_order = 5; R = 4096; C = 4096\n",
    "butter_64 = butterworth(C, R, int(np.sqrt(etendue_expansion_factor)//butter_fac), order=butter_order)\n",
    "\n",
    "plt.figure(figsize=(16,10))\n",
    "plt.subplot(141), plt.imshow(butter_4, vmin=0, vmax=1, cmap='pink')\n",
    "plt.subplot(142), plt.imshow(butter_16, vmin=0, vmax=1, cmap='pink')\n",
    "plt.subplot(143), plt.imshow(butter_36, vmin=0, vmax=1, cmap='pink')\n",
    "plt.subplot(144), plt.imshow(butter_64, vmin=0, vmax=1, cmap='pink')"
   ]
  },
  {
   "cell_type": "markdown",
   "id": "a50b5fc6",
   "metadata": {},
   "source": [
    "# Display Virtual Frequency of Natural Images"
   ]
  },
  {
   "cell_type": "markdown",
   "id": "ffe181bf",
   "metadata": {},
   "source": [
    "### These frequencies are computed as an average over a dataset of natural images."
   ]
  },
  {
   "cell_type": "code",
   "execution_count": null,
   "id": "7579d903",
   "metadata": {},
   "outputs": [],
   "source": [
    "freq_avg_4 = np.load('./Virtual_Freq/natural_images_4x.npy')\n",
    "freq_avg_16 = np.load('./Virtual_Freq/natural_images_16x.npy')\n",
    "freq_avg_36 = np.load('./Virtual_Freq/natural_images_36x.npy')\n",
    "freq_avg_64 = np.load('./Virtual_Freq/natural_images_64x.npy')\n",
    "\n",
    "scale_4 = np.sum(butter_64 * freq_avg_64) / np.sum(butter_4 * freq_avg_4)\n",
    "freq_avg_4 = freq_avg_4 * scale_4\n",
    "scale_16 = np.sum(butter_64 * freq_avg_64) / np.sum(butter_16 * freq_avg_16)\n",
    "freq_avg_16 = freq_avg_16 * scale_16\n",
    "scale_36 = np.sum(butter_64 * freq_avg_64) / np.sum(butter_36 * freq_avg_36)\n",
    "freq_avg_36 = freq_avg_36 * scale_36\n",
    "\n",
    "freq_avg_4_butter = freq_avg_4 * butter_4\n",
    "freq_avg_16_butter = freq_avg_16 * butter_16\n",
    "freq_avg_36_butter = freq_avg_36 * butter_36\n",
    "freq_avg_64_butter = freq_avg_64 * butter_64\n",
    "\n",
    "plt.figure(figsize=(16,10))\n",
    "plt.subplot(141), plt.imshow(freq_avg_4_butter, vmin=0, vmax=vmax_setting, cmap=cmap_setting)\n",
    "plt.subplot(142), plt.imshow(freq_avg_16_butter, vmin=0, vmax=vmax_setting, cmap=cmap_setting)\n",
    "plt.subplot(143), plt.imshow(freq_avg_36_butter, vmin=0, vmax=vmax_setting, cmap=cmap_setting)\n",
    "plt.subplot(144), plt.imshow(freq_avg_64_butter, vmin=0, vmax=vmax_setting, cmap=cmap_setting)"
   ]
  },
  {
   "cell_type": "code",
   "execution_count": null,
   "id": "79d7e71d",
   "metadata": {},
   "outputs": [],
   "source": [
    "# Display center of the virtual frequency\n",
    "\n",
    "center_width = 1024 // 8\n",
    "center_side = (1024 - center_width) // 2\n",
    "freq_avg_4_center = freq_avg_4_butter[center_side:-center_side,center_side:-center_side]\n",
    "\n",
    "center_width = 2048 // 8\n",
    "center_side = (2048 - center_width) // 2\n",
    "freq_avg_16_center = freq_avg_16_butter[center_side:-center_side,center_side:-center_side]\n",
    "\n",
    "center_width = 3072 // 8\n",
    "center_side = (3072 - center_width) // 2\n",
    "freq_avg_36_center = freq_avg_36_butter[center_side:-center_side,center_side:-center_side]\n",
    "\n",
    "center_width = 4096 // 8\n",
    "center_side = (4096 - center_width) // 2\n",
    "freq_avg_64_center = freq_avg_64_butter[center_side:-center_side,center_side:-center_side]\n",
    "\n",
    "plt.figure(figsize=(16,10))\n",
    "plt.subplot(141), plt.imshow(freq_avg_4_center, vmin=0, vmax=vmax_setting, cmap=cmap_setting)\n",
    "plt.subplot(142), plt.imshow(freq_avg_16_center, vmin=0, vmax=vmax_setting, cmap=cmap_setting)\n",
    "plt.subplot(143), plt.imshow(freq_avg_36_center, vmin=0, vmax=vmax_setting, cmap=cmap_setting)\n",
    "plt.subplot(144), plt.imshow(freq_avg_64_center, vmin=0, vmax=vmax_setting, cmap=cmap_setting)"
   ]
  },
  {
   "cell_type": "markdown",
   "id": "819be474",
   "metadata": {},
   "source": [
    "# Display Virtual Frequency of the Neural Étendue Expanders"
   ]
  },
  {
   "cell_type": "markdown",
   "id": "768c1c3e",
   "metadata": {},
   "source": [
    "### Note that here we are computing the virtual frequency on the neural étendue expanders before any fabrication quantization constraint is applied."
   ]
  },
  {
   "cell_type": "code",
   "execution_count": null,
   "id": "03c81909",
   "metadata": {},
   "outputs": [],
   "source": [
    "phase = torch.load('./Virtual_Freq/neural_mono_float_4x.pth')\n",
    "phase = phase.numpy()\n",
    "eoe_4 = np.exp(1j*phase)\n",
    "veoe_4 = np.abs(compute_virtual_eoe(eoe_4))\n",
    "scale_4 = np.sum(butter_64 * freq_avg_64) / np.sum(butter_4 * veoe_4)\n",
    "veoe_4 = veoe_4 * scale_4\n",
    "\n",
    "phase = torch.load('./Virtual_Freq/neural_mono_float_16x.pth')\n",
    "phase = phase.numpy()\n",
    "eoe_16 = np.exp(1j*phase)\n",
    "veoe_16 = np.abs(compute_virtual_eoe(eoe_16))\n",
    "scale_16 = np.sum(butter_64 * freq_avg_64) / np.sum(butter_16 * veoe_16)\n",
    "veoe_16 = veoe_16 * scale_16\n",
    "\n",
    "phase = torch.load('./Virtual_Freq/neural_mono_float_36x.pth')\n",
    "phase = phase.numpy()\n",
    "eoe_36 = np.exp(1j*phase)\n",
    "veoe_36 = np.abs(compute_virtual_eoe(eoe_36))\n",
    "scale_36 = np.sum(butter_64 * freq_avg_64) / np.sum(butter_36 * veoe_36)\n",
    "veoe_36 = veoe_36 * scale_36\n",
    "\n",
    "phase = torch.load('./Virtual_Freq/neural_mono_float_64x.pth')\n",
    "phase = phase.numpy()\n",
    "eoe_64 = np.exp(1j*phase)\n",
    "veoe_64 = np.abs(compute_virtual_eoe(eoe_64))\n",
    "scale_64 = np.sum(butter_64 * freq_avg_64) / np.sum(butter_64 * veoe_64)\n",
    "veoe_64 = veoe_64 * scale_64\n",
    "\n",
    "plt.figure(figsize=(16,10))\n",
    "plt.subplot(141), plt.imshow(veoe_4, vmin=0, vmax=vmax_setting, cmap=cmap_setting)\n",
    "plt.subplot(142), plt.imshow(veoe_16, vmin=0, vmax=vmax_setting, cmap=cmap_setting)\n",
    "plt.subplot(143), plt.imshow(veoe_36, vmin=0, vmax=vmax_setting, cmap=cmap_setting)\n",
    "plt.subplot(144), plt.imshow(veoe_64, vmin=0, vmax=vmax_setting, cmap=cmap_setting)"
   ]
  },
  {
   "cell_type": "code",
   "execution_count": null,
   "id": "6308c46e",
   "metadata": {},
   "outputs": [],
   "source": [
    "# Display center of the virtual frequency\n",
    "\n",
    "center_width = 1024 // 8\n",
    "center_side = (1024 - center_width) // 2\n",
    "veoe_4_center = veoe_4[center_side:-center_side,center_side:-center_side]\n",
    "center_width = 2048 // 8\n",
    "center_side = (2048 - center_width) // 2\n",
    "veoe_16_center = veoe_16[center_side:-center_side,center_side:-center_side]\n",
    "center_width = 3072 // 8\n",
    "center_side = (3072 - center_width) // 2\n",
    "veoe_36_center = veoe_36[center_side:-center_side,center_side:-center_side]\n",
    "center_width = 4096 // 8\n",
    "center_side = (4096 - center_width) // 2\n",
    "veoe_64_center = veoe_64[center_side:-center_side,center_side:-center_side]\n",
    "\n",
    "plt.figure(figsize=(16,10))\n",
    "plt.subplot(141), plt.imshow(veoe_4_center, vmin=0, vmax=vmax_setting, cmap=cmap_setting)\n",
    "plt.subplot(142), plt.imshow(veoe_16_center, vmin=0, vmax=vmax_setting, cmap=cmap_setting)\n",
    "plt.subplot(143), plt.imshow(veoe_36_center, vmin=0, vmax=vmax_setting, cmap=cmap_setting)\n",
    "plt.subplot(144), plt.imshow(veoe_64_center, vmin=0, vmax=vmax_setting, cmap=cmap_setting)"
   ]
  },
  {
   "cell_type": "code",
   "execution_count": null,
   "id": "183a9797",
   "metadata": {},
   "outputs": [],
   "source": []
  }
 ],
 "metadata": {
  "kernelspec": {
   "display_name": "Python 3 (ipykernel)",
   "language": "python",
   "name": "python3"
  },
  "language_info": {
   "codemirror_mode": {
    "name": "ipython",
    "version": 3
   },
   "file_extension": ".py",
   "mimetype": "text/x-python",
   "name": "python",
   "nbconvert_exporter": "python",
   "pygments_lexer": "ipython3",
   "version": "3.10.10"
  }
 },
 "nbformat": 4,
 "nbformat_minor": 5
}
